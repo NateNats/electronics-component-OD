{
 "cells": [
  {
   "metadata": {},
   "cell_type": "markdown",
   "source": "# Setup",
   "id": "c56f134767279b11"
  },
  {
   "metadata": {},
   "cell_type": "code",
   "outputs": [
    {
     "name": "stderr",
     "output_type": "stream",
     "text": [
      "Cloning into 'yolov5'...\n"
     ]
    }
   ],
   "execution_count": 2,
   "source": [
    "!git clone https://github.com/ultralytics/yolov5\n",
    "%cd yolov5\n",
    "!pip install -r requirements.txt"
   ],
   "id": "initial_id"
  },
  {
   "metadata": {
    "ExecuteTime": {
     "end_time": "2024-06-15T10:56:44.772886Z",
     "start_time": "2024-06-15T10:56:40.688916Z"
    }
   },
   "cell_type": "code",
   "source": [
    "import torch\n",
    "import os\n",
    "from IPython.display import Image, clear_output\n",
    "import roboflow\n",
    "from roboflow import Roboflow"
   ],
   "id": "3e20e5b15db442cc",
   "outputs": [],
   "execution_count": 5
  },
  {
   "metadata": {
    "ExecuteTime": {
     "end_time": "2024-06-15T11:01:56.049105Z",
     "start_time": "2024-06-15T11:01:56.043071Z"
    }
   },
   "cell_type": "code",
   "source": "print(f'setup complete. Using torch {torch.__version__} ({torch.cuda.get_device_properties(0).name if torch.cuda.is_available() else \"CPU\"})')",
   "id": "715f73ea13184639",
   "outputs": [
    {
     "name": "stdout",
     "output_type": "stream",
     "text": [
      "setup complete. Using torch 2.3.1+cpu (CPU)\n"
     ]
    }
   ],
   "execution_count": 8
  },
  {
   "metadata": {},
   "cell_type": "code",
   "outputs": [],
   "execution_count": null,
   "source": [
    "# Set up Roboflow\n",
    "rf = Roboflow(model_format='yolov5', notebook='ultralytics')"
   ],
   "id": "4bca5dff078318f9"
  },
  {
   "metadata": {
    "ExecuteTime": {
     "end_time": "2024-06-15T11:06:05.831290Z",
     "start_time": "2024-06-15T11:06:05.827801Z"
    }
   },
   "cell_type": "code",
   "source": [
    "#set up envoriment\n",
    "os.environ['dataset_directory'] = '../datasets'"
   ],
   "id": "c631e3e3d7ca6453",
   "outputs": [],
   "execution_count": 9
  },
  {
   "metadata": {
    "ExecuteTime": {
     "end_time": "2024-06-15T11:08:30.546305Z",
     "start_time": "2024-06-15T11:08:09.311827Z"
    }
   },
   "cell_type": "code",
   "source": [
    "# Download the dataset\n",
    "rf = Roboflow(api_key=\"2ZCn6K3jRx5W5cLyB24S\")\n",
    "project = rf.workspace(\"abc-qqksz\").project(\"electronic-ezdmf\")\n",
    "version = project.version(1)\n",
    "dataset = version.download(\"yolov5\")"
   ],
   "id": "efa67ebd9a3b7ced",
   "outputs": [
    {
     "name": "stdout",
     "output_type": "stream",
     "text": [
      "loading Roboflow workspace...\n",
      "loading Roboflow project...\n"
     ]
    },
    {
     "name": "stderr",
     "output_type": "stream",
     "text": [
      "Downloading Dataset Version Zip in ../datasets/Electronic-1 to yolov5pytorch:: 100%|██████████| 7032/7032 [00:15<00:00, 458.89it/s]"
     ]
    },
    {
     "name": "stdout",
     "output_type": "stream",
     "text": [
      "\n"
     ]
    },
    {
     "name": "stderr",
     "output_type": "stream",
     "text": [
      "\n",
      "Extracting Dataset Version Zip to ../datasets/Electronic-1 in yolov5pytorch:: 100%|██████████| 490/490 [00:00<00:00, 2618.29it/s]\n"
     ]
    }
   ],
   "execution_count": 10
  },
  {
   "metadata": {},
   "cell_type": "markdown",
   "source": "# Train the YOLOv5 Model",
   "id": "855de561c24a9b39"
  },
  {
   "metadata": {
    "jupyter": {
     "is_executing": true
    },
    "ExecuteTime": {
     "start_time": "2024-06-15T11:19:10.948459Z"
    }
   },
   "cell_type": "code",
   "source": "!python train.py --img 416 --batch 16 --epochs 100 --data \"C:/Sinau/UAS - Pembelajaran Mesin 2/datasets/Electronic-1/data.yaml\" --weights yolov5s.pt --cache",
   "id": "322331a765d17e42",
   "outputs": [],
   "execution_count": null
  },
  {
   "metadata": {},
   "cell_type": "markdown",
   "source": "# Show training results",
   "id": "23f5a0d34806be36"
  },
  {
   "metadata": {},
   "cell_type": "code",
   "outputs": [],
   "execution_count": null,
   "source": [
    "# start tensorboard\n",
    "#logs save in the folder \"runs\"\n",
    "\n",
    "%load_ext tensorboard\n",
    "%tensorboard --logdir runs"
   ],
   "id": "23f846a983d6c740"
  }
 ],
 "metadata": {
  "kernelspec": {
   "display_name": "Python 3",
   "language": "python",
   "name": "python3"
  },
  "language_info": {
   "codemirror_mode": {
    "name": "ipython",
    "version": 2
   },
   "file_extension": ".py",
   "mimetype": "text/x-python",
   "name": "python",
   "nbconvert_exporter": "python",
   "pygments_lexer": "ipython2",
   "version": "2.7.6"
  }
 },
 "nbformat": 4,
 "nbformat_minor": 5
}
